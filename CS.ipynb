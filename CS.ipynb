{
 "cells": [
  {
   "cell_type": "markdown",
   "id": "7c927cdd-3066-460d-bace-9df775b6e981",
   "metadata": {},
   "source": [
    "<b> 1. Tokenize sentences </b>"
   ]
  },
  {
   "cell_type": "code",
   "execution_count": 125,
   "id": "ea1caea7-d9a7-4255-b218-5b4baf2cbdb7",
   "metadata": {
    "scrolled": true
   },
   "outputs": [
    {
     "name": "stdout",
     "output_type": "stream",
     "text": [
      "### Step 1: Tokenized Sentences ###\n",
      "\n",
      " Sentence 1: Artificial Intelligence (AI) is a branch of computer science that aims to create machines as intelligent as humans.\n",
      "\n",
      " Sentence 2: AI has applications in various fields, including healthcare, finance, and transportation.\n",
      "\n",
      " Sentence 3: Machine Learning (ML), a subset of AI, enables computers to learn from data without being explicitly programmed.\n",
      "\n",
      " Sentence 4: Natural Language Processing (NLP) and Computer Vision are key domains within AI.\n"
     ]
    }
   ],
   "source": [
    "import nltk\n",
    "from nltk.tokenize import sent_tokenize\n",
    "\n",
    "# Input Text\n",
    "text = \"\"\"Artificial Intelligence (AI) is a branch of computer science that aims to create machines as intelligent as humans. \n",
    "AI has applications in various fields, including healthcare, finance, and transportation. \n",
    "Machine Learning (ML), a subset of AI, enables computers to learn from data without being explicitly programmed. \n",
    "Natural Language Processing (NLP) and Computer Vision are key domains within AI.\n",
    "\"\"\"\n",
    "# Tokenize Sentences\n",
    "def tokenize_sentences(text):\n",
    "    return sent_tokenize(text)\n",
    "\n",
    "sentences = tokenize_sentences(text)\n",
    "print(\"### Step 1: Tokenized Sentences ###\")\n",
    "for i, sentence in enumerate(sentences, 1):\n",
    "    print(f\"\\n Sentence {i}: {sentence}\")\n"
   ]
  },
  {
   "cell_type": "markdown",
   "id": "13b94d50-c114-4422-b54d-ac034046f223",
   "metadata": {},
   "source": [
    "<b> 2. Create Frequency Matrix of Words in Each Sentence. </b>"
   ]
  },
  {
   "cell_type": "code",
   "execution_count": 128,
   "id": "8a240c00-4747-49c7-91ec-96245384da4b",
   "metadata": {},
   "outputs": [
    {
     "name": "stdout",
     "output_type": "stream",
     "text": [
      "\n",
      "### Step 2: Frequency Matrix ###\n",
      "\n",
      " Sentence: \"Artificial Intelligence (AI) is a branch of computer science that aims to create machines as intelligent as humans.\"\n",
      ">> Frequencies: {'artificial': 1, 'intelligence': 1, 'ai': 1, 'branch': 1, 'computer': 1, 'science': 1, 'aims': 1, 'create': 1, 'machines': 1, 'intelligent': 1, 'humans': 1}\n",
      "\n",
      " Sentence: \"AI has applications in various fields, including healthcare, finance, and transportation.\"\n",
      ">> Frequencies: {'ai': 1, 'applications': 1, 'various': 1, 'fields': 1, 'including': 1, 'healthcare': 1, 'finance': 1, 'transportation': 1}\n",
      "\n",
      " Sentence: \"Machine Learning (ML), a subset of AI, enables computers to learn from data without being explicitly programmed.\"\n",
      ">> Frequencies: {'machine': 1, 'learning': 1, 'ml': 1, 'subset': 1, 'ai': 1, 'enables': 1, 'computers': 1, 'learn': 1, 'data': 1, 'without': 1, 'explicitly': 1, 'programmed': 1}\n",
      "\n",
      " Sentence: \"Natural Language Processing (NLP) and Computer Vision are key domains within AI.\"\n",
      ">> Frequencies: {'natural': 1, 'language': 1, 'processing': 1, 'nlp': 1, 'computer': 1, 'vision': 1, 'key': 1, 'domains': 1, 'within': 1, 'ai': 1}\n"
     ]
    }
   ],
   "source": [
    "from nltk.tokenize import word_tokenize\n",
    "from nltk.corpus import stopwords\n",
    "from collections import defaultdict\n",
    "\n",
    "stop_words = set(stopwords.words(\"english\"))\n",
    "\n",
    "# Create Frequency Matrix\n",
    "def create_frequency_matrix(sentences):\n",
    "    frequency_matrix = {}\n",
    "    for sentence in sentences:\n",
    "        words = word_tokenize(sentence.lower())\n",
    "        frequency_matrix[sentence] = {}\n",
    "        for word in words:\n",
    "            if word.isalnum() and word not in stop_words:\n",
    "                frequency_matrix[sentence][word] = frequency_matrix[sentence].get(word, 0) + 1\n",
    "    return frequency_matrix\n",
    "\n",
    "frequency_matrix = create_frequency_matrix(sentences)\n",
    "print(\"\\n### Step 2: Frequency Matrix ###\")\n",
    "for sentence, freqs in frequency_matrix.items():\n",
    "    print(f\"\\n Sentence: \\\"{sentence}\\\"\")\n",
    "    print(f\">> Frequencies: {freqs}\")"
   ]
  },
  {
   "cell_type": "markdown",
   "id": "257117e7-1f30-4c63-aa41-5df23de88487",
   "metadata": {},
   "source": [
    "<b> 3. Calculate Term Frequency and Generate Matrix. </b>"
   ]
  },
  {
   "cell_type": "code",
   "execution_count": 131,
   "id": "e8089800-5014-430a-a1ae-a8efe6827047",
   "metadata": {},
   "outputs": [
    {
     "name": "stdout",
     "output_type": "stream",
     "text": [
      "\n",
      "### Step 3: Term Frequency (TF) Matrix ###\n",
      "\n",
      " Sentence: \"Artificial Intelligence (AI) is a branch of computer science that aims to create machines as intelligent as humans.\"\n",
      ">> TF Scores: {'artificial': 0.09090909090909091, 'intelligence': 0.09090909090909091, 'ai': 0.09090909090909091, 'branch': 0.09090909090909091, 'computer': 0.09090909090909091, 'science': 0.09090909090909091, 'aims': 0.09090909090909091, 'create': 0.09090909090909091, 'machines': 0.09090909090909091, 'intelligent': 0.09090909090909091, 'humans': 0.09090909090909091}\n",
      "\n",
      "\n",
      " Sentence: \"AI has applications in various fields, including healthcare, finance, and transportation.\"\n",
      ">> TF Scores: {'ai': 0.125, 'applications': 0.125, 'various': 0.125, 'fields': 0.125, 'including': 0.125, 'healthcare': 0.125, 'finance': 0.125, 'transportation': 0.125}\n",
      "\n",
      "\n",
      " Sentence: \"Machine Learning (ML), a subset of AI, enables computers to learn from data without being explicitly programmed.\"\n",
      ">> TF Scores: {'machine': 0.08333333333333333, 'learning': 0.08333333333333333, 'ml': 0.08333333333333333, 'subset': 0.08333333333333333, 'ai': 0.08333333333333333, 'enables': 0.08333333333333333, 'computers': 0.08333333333333333, 'learn': 0.08333333333333333, 'data': 0.08333333333333333, 'without': 0.08333333333333333, 'explicitly': 0.08333333333333333, 'programmed': 0.08333333333333333}\n",
      "\n",
      "\n",
      " Sentence: \"Natural Language Processing (NLP) and Computer Vision are key domains within AI.\"\n",
      ">> TF Scores: {'natural': 0.1, 'language': 0.1, 'processing': 0.1, 'nlp': 0.1, 'computer': 0.1, 'vision': 0.1, 'key': 0.1, 'domains': 0.1, 'within': 0.1, 'ai': 0.1}\n",
      "\n"
     ]
    }
   ],
   "source": [
    "# Calculate Term Frequency\n",
    "def calculate_term_frequency(frequency_matrix):\n",
    "    tf_matrix = {}\n",
    "    for sentence, freqs in frequency_matrix.items():\n",
    "        tf_matrix[sentence] = {}\n",
    "        total_words = sum(freqs.values())\n",
    "        for word, count in freqs.items():\n",
    "            tf_matrix[sentence][word] = count / total_words\n",
    "    return tf_matrix\n",
    "\n",
    "tf_matrix = calculate_term_frequency(frequency_matrix)\n",
    "print(\"\\n### Step 3: Term Frequency (TF) Matrix ###\")\n",
    "for sentence, tf_scores in tf_matrix.items():\n",
    "    print(f\"\\n Sentence: \\\"{sentence}\\\"\")\n",
    "    print(f\">> TF Scores: {tf_scores}\\n\")\n"
   ]
  },
  {
   "cell_type": "markdown",
   "id": "e079efd8-97c1-4989-b194-abdf807ed5fc",
   "metadata": {},
   "source": [
    "<b> 4. Create a table for documents per words. </b>"
   ]
  },
  {
   "cell_type": "code",
   "execution_count": 152,
   "id": "fa6d701e-6829-4f36-b048-04a52966e9aa",
   "metadata": {},
   "outputs": [
    {
     "name": "stdout",
     "output_type": "stream",
     "text": [
      "\n",
      "### Step 4: Document Per Word Table ###\n",
      "\n",
      "artificial: 1\n",
      "intelligence: 1\n",
      "ai: 4\n",
      "branch: 1\n",
      "computer: 2\n",
      "science: 1\n",
      "aims: 1\n",
      "create: 1\n",
      "machines: 1\n",
      "intelligent: 1\n",
      "humans: 1\n",
      "applications: 1\n",
      "various: 1\n",
      "fields: 1\n",
      "including: 1\n",
      "healthcare: 1\n",
      "finance: 1\n",
      "transportation: 1\n",
      "machine: 1\n",
      "learning: 1\n",
      "ml: 1\n",
      "subset: 1\n",
      "enables: 1\n",
      "computers: 1\n",
      "learn: 1\n",
      "data: 1\n",
      "without: 1\n",
      "explicitly: 1\n",
      "programmed: 1\n",
      "natural: 1\n",
      "language: 1\n",
      "processing: 1\n",
      "nlp: 1\n",
      "vision: 1\n",
      "key: 1\n",
      "domains: 1\n",
      "within: 1\n"
     ]
    }
   ],
   "source": [
    "# Document Per Word Table\n",
    "def create_documents_per_word_table(frequency_matrix):\n",
    "    word_document_counts = defaultdict(int)\n",
    "    for sentence, freqs in frequency_matrix.items():\n",
    "        for word in freqs.keys():\n",
    "            word_document_counts[word] += 1\n",
    "    return word_document_counts\n",
    "\n",
    "word_document_counts = create_documents_per_word_table(frequency_matrix)\n",
    "print(\"\\n### Step 4: Document Per Word Table ###\\n\")\n",
    "for word, doc_count in word_document_counts.items():\n",
    "    print(f\"{word}: {doc_count}\")"
   ]
  },
  {
   "cell_type": "markdown",
   "id": "dd1efc9d-8215-41af-adb1-ed4e8e64fe28",
   "metadata": {},
   "source": [
    "<b> 5. Calculate IDF and generate matrix. </b>"
   ]
  },
  {
   "cell_type": "code",
   "execution_count": 154,
   "id": "5fb039a6-80c5-4fc2-a963-3c582532b096",
   "metadata": {},
   "outputs": [
    {
     "name": "stdout",
     "output_type": "stream",
     "text": [
      "\n",
      "### Step 5: Inverse Document Frequency (IDF) Scores ###\n",
      "\n",
      "artificial: 0.3010299956639812\n",
      "intelligence: 0.3010299956639812\n",
      "ai: -0.09691001300805639\n",
      "branch: 0.3010299956639812\n",
      "computer: 0.12493873660829993\n",
      "science: 0.3010299956639812\n",
      "aims: 0.3010299956639812\n",
      "create: 0.3010299956639812\n",
      "machines: 0.3010299956639812\n",
      "intelligent: 0.3010299956639812\n",
      "humans: 0.3010299956639812\n",
      "applications: 0.3010299956639812\n",
      "various: 0.3010299956639812\n",
      "fields: 0.3010299956639812\n",
      "including: 0.3010299956639812\n",
      "healthcare: 0.3010299956639812\n",
      "finance: 0.3010299956639812\n",
      "transportation: 0.3010299956639812\n",
      "machine: 0.3010299956639812\n",
      "learning: 0.3010299956639812\n",
      "ml: 0.3010299956639812\n",
      "subset: 0.3010299956639812\n",
      "enables: 0.3010299956639812\n",
      "computers: 0.3010299956639812\n",
      "learn: 0.3010299956639812\n",
      "data: 0.3010299956639812\n",
      "without: 0.3010299956639812\n",
      "explicitly: 0.3010299956639812\n",
      "programmed: 0.3010299956639812\n",
      "natural: 0.3010299956639812\n",
      "language: 0.3010299956639812\n",
      "processing: 0.3010299956639812\n",
      "nlp: 0.3010299956639812\n",
      "vision: 0.3010299956639812\n",
      "key: 0.3010299956639812\n",
      "domains: 0.3010299956639812\n",
      "within: 0.3010299956639812\n"
     ]
    }
   ],
   "source": [
    "import math\n",
    "\n",
    "# Calculate Inverse Document Frequency\n",
    "def calculate_idf(sentences, word_document_counts):\n",
    "    total_documents = len(sentences)\n",
    "    idf_scores = {}\n",
    "    for word, count in word_document_counts.items():\n",
    "        idf_scores[word] = math.log10(total_documents / (1 + count))\n",
    "    return idf_scores\n",
    "\n",
    "idf_scores = calculate_idf(sentences, word_document_counts)\n",
    "print(\"\\n### Step 5: Inverse Document Frequency (IDF) Scores ###\\n\")\n",
    "for word, idf_score in idf_scores.items():\n",
    "    print(f\"{word}: {idf_score}\")"
   ]
  },
  {
   "cell_type": "markdown",
   "id": "749bb5d0-dab9-4968-8025-9e4a5cff5a53",
   "metadata": {},
   "source": [
    "<b> 6. Calculate TF-IDF and Generate Matrix. </b>"
   ]
  },
  {
   "cell_type": "code",
   "execution_count": 156,
   "id": "35738933-45c0-4dab-aa64-d17c290715f8",
   "metadata": {},
   "outputs": [
    {
     "name": "stdout",
     "output_type": "stream",
     "text": [
      "\n",
      "### Step 6: TF-IDF Matrix ###\n",
      "\n",
      "Sentence: \"Artificial Intelligence (AI) is a branch of computer science that aims to create machines as intelligent as humans.\"\n",
      ">> TF-IDF Scores: {'artificial': 0.02736636324218011, 'intelligence': 0.02736636324218011, 'ai': -0.008810001182550582, 'branch': 0.02736636324218011, 'computer': 0.011358066964390904, 'science': 0.02736636324218011, 'aims': 0.02736636324218011, 'create': 0.02736636324218011, 'machines': 0.02736636324218011, 'intelligent': 0.02736636324218011, 'humans': 0.02736636324218011}\n",
      "\n",
      "Sentence: \"AI has applications in various fields, including healthcare, finance, and transportation.\"\n",
      ">> TF-IDF Scores: {'ai': -0.012113751626007049, 'applications': 0.03762874945799765, 'various': 0.03762874945799765, 'fields': 0.03762874945799765, 'including': 0.03762874945799765, 'healthcare': 0.03762874945799765, 'finance': 0.03762874945799765, 'transportation': 0.03762874945799765}\n",
      "\n",
      "Sentence: \"Machine Learning (ML), a subset of AI, enables computers to learn from data without being explicitly programmed.\"\n",
      ">> TF-IDF Scores: {'machine': 0.025085832971998432, 'learning': 0.025085832971998432, 'ml': 0.025085832971998432, 'subset': 0.025085832971998432, 'ai': -0.008075834417338033, 'enables': 0.025085832971998432, 'computers': 0.025085832971998432, 'learn': 0.025085832971998432, 'data': 0.025085832971998432, 'without': 0.025085832971998432, 'explicitly': 0.025085832971998432, 'programmed': 0.025085832971998432}\n",
      "\n",
      "Sentence: \"Natural Language Processing (NLP) and Computer Vision are key domains within AI.\"\n",
      ">> TF-IDF Scores: {'natural': 0.03010299956639812, 'language': 0.03010299956639812, 'processing': 0.03010299956639812, 'nlp': 0.03010299956639812, 'computer': 0.012493873660829994, 'vision': 0.03010299956639812, 'key': 0.03010299956639812, 'domains': 0.03010299956639812, 'within': 0.03010299956639812, 'ai': -0.00969100130080564}\n",
      "\n"
     ]
    }
   ],
   "source": [
    "# Calculate TF-IDF Matrix\n",
    "def calculate_tfidf(tf_matrix, idf_scores):\n",
    "    tfidf_matrix = {}\n",
    "    for sentence, tf_scores in tf_matrix.items():\n",
    "        tfidf_matrix[sentence] = {}\n",
    "        for word, tf_score in tf_scores.items():\n",
    "            tfidf_matrix[sentence][word] = tf_score * idf_scores.get(word, 0)\n",
    "    return tfidf_matrix\n",
    "\n",
    "tfidf_matrix = calculate_tfidf(tf_matrix, idf_scores)\n",
    "print(\"\\n### Step 6: TF-IDF Matrix ###\\n\")\n",
    "for sentence, tfidf_scores in tfidf_matrix.items():\n",
    "    print(f\"Sentence: \\\"{sentence}\\\"\")\n",
    "    print(f\">> TF-IDF Scores: {tfidf_scores}\\n\")"
   ]
  },
  {
   "cell_type": "markdown",
   "id": "d36494c8-c4a6-4227-8359-94c98016ff6a",
   "metadata": {},
   "source": [
    "<b> 7. Score the sentences. </b>"
   ]
  },
  {
   "cell_type": "code",
   "execution_count": 143,
   "id": "ac7bcbe2-193b-4c8d-9aff-2a7c32d59222",
   "metadata": {},
   "outputs": [
    {
     "name": "stdout",
     "output_type": "stream",
     "text": [
      "\n",
      "### Step 7: Sentence Scores ###\n",
      "\n",
      " Sentence: \"Artificial Intelligence (AI) is a branch of computer science that aims to create machines as intelligent as humans.\" - Score: 0.24884533496146133\n",
      "\n",
      " Sentence: \"AI has applications in various fields, including healthcare, finance, and transportation.\" - Score: 0.2512874945799765\n",
      "\n",
      " Sentence: \"Machine Learning (ML), a subset of AI, enables computers to learn from data without being explicitly programmed.\" - Score: 0.26786832827464474\n",
      "\n",
      " Sentence: \"Natural Language Processing (NLP) and Computer Vision are key domains within AI.\" - Score: 0.24362686889120932\n"
     ]
    }
   ],
   "source": [
    "# Score Sentences\n",
    "def score_sentences(tfidf_matrix):\n",
    "    sentence_scores = {}\n",
    "    for sentence, tfidf_scores in tfidf_matrix.items():\n",
    "        sentence_scores[sentence] = sum(tfidf_scores.values())\n",
    "    return sentence_scores\n",
    "\n",
    "sentence_scores = score_sentences(tfidf_matrix)\n",
    "print(\"\\n### Step 7: Sentence Scores ###\")\n",
    "for sentence, score in sentence_scores.items():\n",
    "    print(f\"\\n Sentence: \\\"{sentence}\\\" - Score: {score}\")"
   ]
  },
  {
   "cell_type": "markdown",
   "id": "a638b4f8-7693-4599-bef5-24b4490b14a6",
   "metadata": {},
   "source": [
    "<b> 8. Find the threshold. </b>"
   ]
  },
  {
   "cell_type": "code",
   "execution_count": 163,
   "id": "cd5699dc-5a7d-411c-80dc-cc6aad64ea35",
   "metadata": {},
   "outputs": [
    {
     "name": "stdout",
     "output_type": "stream",
     "text": [
      "\n",
      "### Step 8: Threshold Value ###\n",
      "Threshold (Average Score): 0.25037793661005475\n"
     ]
    }
   ],
   "source": [
    "# Calculate Threshold\n",
    "def calculate_threshold(sentence_scores):\n",
    "    threshold_factor = 1\n",
    "    return sum(sentence_scores.values()) / len(sentence_scores) * threshold_factor\n",
    "\n",
    "threshold = calculate_threshold(sentence_scores)\n",
    "print(\"\\n### Step 8: Threshold Value ###\")\n",
    "print(f\"Threshold (Average Score): {threshold}\")"
   ]
  },
  {
   "cell_type": "markdown",
   "id": "c4e2755f-51c0-493e-a95c-2b5da3e0db9b",
   "metadata": {},
   "source": [
    "<b> 9. Generate the Summary. </b>"
   ]
  },
  {
   "cell_type": "code",
   "execution_count": 166,
   "id": "2dd116f0-c5f6-4f7a-991b-cb8940b5b76e",
   "metadata": {},
   "outputs": [
    {
     "name": "stdout",
     "output_type": "stream",
     "text": [
      "\n",
      "### Step 9: Generated Summary ###\n",
      "\n",
      "AI has applications in various fields, including healthcare, finance, and transportation. Machine Learning (ML), a subset of AI, enables computers to learn from data without being explicitly programmed.\n"
     ]
    }
   ],
   "source": [
    "# Generate Summary\n",
    "def generate_summary(sentences, sentence_scores, threshold):\n",
    "    return [sentence for sentence in sentences if sentence_scores[sentence] > threshold]\n",
    "\n",
    "summary = generate_summary(sentences, sentence_scores, threshold)\n",
    "print(\"\\n### Step 9: Generated Summary ###\\n\")\n",
    "print(\" \".join(summary))\n"
   ]
  },
  {
   "cell_type": "code",
   "execution_count": null,
   "id": "c6dfd1d3-ddbd-4947-b945-093e5e057b40",
   "metadata": {},
   "outputs": [],
   "source": []
  },
  {
   "cell_type": "code",
   "execution_count": null,
   "id": "5e3eaf48-1fd3-466e-b331-219f434f27e8",
   "metadata": {},
   "outputs": [],
   "source": []
  }
 ],
 "metadata": {
  "kernelspec": {
   "display_name": "Python 3 (ipykernel)",
   "language": "python",
   "name": "python3"
  },
  "language_info": {
   "codemirror_mode": {
    "name": "ipython",
    "version": 3
   },
   "file_extension": ".py",
   "mimetype": "text/x-python",
   "name": "python",
   "nbconvert_exporter": "python",
   "pygments_lexer": "ipython3",
   "version": "3.12.4"
  }
 },
 "nbformat": 4,
 "nbformat_minor": 5
}
